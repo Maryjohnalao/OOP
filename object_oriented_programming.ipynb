{
  "nbformat": 4,
  "nbformat_minor": 0,
  "metadata": {
    "colab": {
      "provenance": []
    },
    "kernelspec": {
      "name": "python3",
      "display_name": "Python 3"
    },
    "language_info": {
      "name": "python"
    }
  },
  "cells": [
    {
      "cell_type": "code",
      "source": [
        " class Account:\n",
        "    def __init__(self, account_number, account_balance, account_holder, account_deposit):\n",
        "        self.account_number = account_number\n",
        "        self.account_balance = account_balance\n",
        "        self.account_holder = account_holder\n",
        "        self.account_deposit = account_deposit\n",
        "    \n",
        "    def deposit(self, amount):\n",
        "        self.account_balance += amount\n",
        "        \n",
        "    \n",
        "    def withdraw(self, amount):\n",
        "        if self.account_balance >= amount:\n",
        "            self.account_balance -= amount\n",
        "        else:\n",
        "            print(\"Insufficient balance.\")\n",
        "    \n",
        "    def check_balance(self):\n",
        "        return self.account_balance"
      ],
      "metadata": {
        "id": "gOWTcxAjFbsr"
      },
      "execution_count": 2,
      "outputs": []
    },
    {
      "cell_type": "code",
      "source": [
        "account_1 = Account(\"007878787\", 23000.0, \"esther\", 400)\n",
        "\n",
        "account_1.deposit(500.0)\n",
        "print(\"Current balance:\", account_1.check_balance())"
      ],
      "metadata": {
        "colab": {
          "base_uri": "https://localhost:8080/"
        },
        "id": "t40s5s3pFpe8",
        "outputId": "433245b2-9f62-43ec-98bc-ba71a41ef79f"
      },
      "execution_count": 3,
      "outputs": [
        {
          "output_type": "stream",
          "name": "stdout",
          "text": [
            "Current balance: 23500.0\n"
          ]
        }
      ]
    },
    {
      "cell_type": "code",
      "source": [
        "account_1.withdraw(200.0)\n",
        "print(\"Current balance:\", account_1.check_balance())"
      ],
      "metadata": {
        "colab": {
          "base_uri": "https://localhost:8080/"
        },
        "id": "HtongTpnFtXB",
        "outputId": "4bd480e3-5811-402b-93bd-abc95b88e8ee"
      },
      "execution_count": 4,
      "outputs": [
        {
          "output_type": "stream",
          "name": "stdout",
          "text": [
            "Current balance: 23300.0\n"
          ]
        }
      ]
    },
    {
      "cell_type": "code",
      "source": [],
      "metadata": {
        "id": "mndBPrL6FxAg"
      },
      "execution_count": null,
      "outputs": []
    }
  ]
}